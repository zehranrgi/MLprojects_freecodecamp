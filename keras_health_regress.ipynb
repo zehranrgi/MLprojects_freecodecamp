{
  "nbformat": 4,
  "nbformat_minor": 0,
  "metadata": {
    "colab": {
      "name": "keras_health_regress.ipynb",
      "provenance": [],
      "collapsed_sections": []
    },
    "kernelspec": {
      "name": "python3",
      "display_name": "Python 3"
    },
    "language_info": {
      "name": "python"
    }
  },
  "cells": [
    {
      "cell_type": "code",
      "metadata": {
        "colab": {
          "base_uri": "https://localhost:8080/"
        },
        "id": "HmvaXKu7yznn",
        "outputId": "e24bab5d-e162-4e96-9522-3e0e4eef1b09"
      },
      "source": [
        "!pip install -q git+https://github.com/tensorflow/docs\n",
        "import matplotlib.pyplot as plt\n",
        "import numpy as np\n",
        "import pandas as pd\n",
        "\n",
        "try:\n",
        "  # %tensorflow_version only exists in Colab.\n",
        "  %tensorflow_version 2.x\n",
        "except Exception:\n",
        "  pass\n",
        "import tensorflow as tf\n",
        "\n",
        "from tensorflow.keras import layers\n",
        "from sklearn.model_selection import train_test_split\n",
        "from sklearn.preprocessing import LabelEncoder\n",
        "from tensorflow.keras.layers.experimental import preprocessing\n",
        "\n",
        "import tensorflow_docs as tfdocs\n",
        "import tensorflow_docs.plots\n",
        "import tensorflow_docs.modeling\n"
      ],
      "execution_count": 1,
      "outputs": [
        {
          "output_type": "stream",
          "text": [
            "  Building wheel for tensorflow-docs (setup.py) ... \u001b[?25l\u001b[?25hdone\n",
            "\u001b[33m  WARNING: Built wheel for tensorflow-docs is invalid: Metadata 1.2 mandates PEP 440 version, but '0.0.02ece79e301135524bfea94263a01a0620df171e5-' is not\u001b[0m\n",
            "    Running setup.py install for tensorflow-docs ... \u001b[?25l\u001b[?25hdone\n",
            "\u001b[33m  DEPRECATION: tensorflow-docs was installed using the legacy 'setup.py install' method, because a wheel could not be built for it. A possible replacement is to fix the wheel build issue reported above. You can find discussion regarding this at https://github.com/pypa/pip/issues/8368.\u001b[0m\n"
          ],
          "name": "stdout"
        }
      ]
    },
    {
      "cell_type": "code",
      "metadata": {
        "colab": {
          "base_uri": "https://localhost:8080/"
        },
        "id": "p3t2AYL1y2pS",
        "outputId": "1f11430e-be67-489c-9428-88dae48e6153"
      },
      "source": [
        "# Import data\n",
        "!wget https://cdn.freecodecamp.org/project-data/health-costs/insurance.csv\n",
        "dataset = pd.read_csv('insurance.csv')"
      ],
      "execution_count": 2,
      "outputs": [
        {
          "output_type": "stream",
          "text": [
            "--2021-07-27 21:08:10--  https://cdn.freecodecamp.org/project-data/health-costs/insurance.csv\n",
            "Resolving cdn.freecodecamp.org (cdn.freecodecamp.org)... 104.26.2.33, 172.67.70.149, 104.26.3.33, ...\n",
            "Connecting to cdn.freecodecamp.org (cdn.freecodecamp.org)|104.26.2.33|:443... connected.\n",
            "HTTP request sent, awaiting response... 200 OK\n",
            "Length: 50264 (49K) [text/csv]\n",
            "Saving to: ‘insurance.csv’\n",
            "\n",
            "\rinsurance.csv         0%[                    ]       0  --.-KB/s               \rinsurance.csv       100%[===================>]  49.09K  --.-KB/s    in 0.01s   \n",
            "\n",
            "2021-07-27 21:08:10 (4.52 MB/s) - ‘insurance.csv’ saved [50264/50264]\n",
            "\n"
          ],
          "name": "stdout"
        }
      ]
    },
    {
      "cell_type": "code",
      "metadata": {
        "colab": {
          "base_uri": "https://localhost:8080/",
          "height": 206
        },
        "id": "Z0Gxz9fiy5Bj",
        "outputId": "7af75548-b96c-4d15-9546-05a5f0d2ddd5"
      },
      "source": [
        "dataset.head()"
      ],
      "execution_count": 4,
      "outputs": [
        {
          "output_type": "execute_result",
          "data": {
            "text/html": [
              "<div>\n",
              "<style scoped>\n",
              "    .dataframe tbody tr th:only-of-type {\n",
              "        vertical-align: middle;\n",
              "    }\n",
              "\n",
              "    .dataframe tbody tr th {\n",
              "        vertical-align: top;\n",
              "    }\n",
              "\n",
              "    .dataframe thead th {\n",
              "        text-align: right;\n",
              "    }\n",
              "</style>\n",
              "<table border=\"1\" class=\"dataframe\">\n",
              "  <thead>\n",
              "    <tr style=\"text-align: right;\">\n",
              "      <th></th>\n",
              "      <th>age</th>\n",
              "      <th>sex</th>\n",
              "      <th>bmi</th>\n",
              "      <th>children</th>\n",
              "      <th>smoker</th>\n",
              "      <th>region</th>\n",
              "      <th>expenses</th>\n",
              "    </tr>\n",
              "  </thead>\n",
              "  <tbody>\n",
              "    <tr>\n",
              "      <th>0</th>\n",
              "      <td>19</td>\n",
              "      <td>female</td>\n",
              "      <td>27.9</td>\n",
              "      <td>0</td>\n",
              "      <td>yes</td>\n",
              "      <td>southwest</td>\n",
              "      <td>16884.92</td>\n",
              "    </tr>\n",
              "    <tr>\n",
              "      <th>1</th>\n",
              "      <td>18</td>\n",
              "      <td>male</td>\n",
              "      <td>33.8</td>\n",
              "      <td>1</td>\n",
              "      <td>no</td>\n",
              "      <td>southeast</td>\n",
              "      <td>1725.55</td>\n",
              "    </tr>\n",
              "    <tr>\n",
              "      <th>2</th>\n",
              "      <td>28</td>\n",
              "      <td>male</td>\n",
              "      <td>33.0</td>\n",
              "      <td>3</td>\n",
              "      <td>no</td>\n",
              "      <td>southeast</td>\n",
              "      <td>4449.46</td>\n",
              "    </tr>\n",
              "    <tr>\n",
              "      <th>3</th>\n",
              "      <td>33</td>\n",
              "      <td>male</td>\n",
              "      <td>22.7</td>\n",
              "      <td>0</td>\n",
              "      <td>no</td>\n",
              "      <td>northwest</td>\n",
              "      <td>21984.47</td>\n",
              "    </tr>\n",
              "    <tr>\n",
              "      <th>4</th>\n",
              "      <td>32</td>\n",
              "      <td>male</td>\n",
              "      <td>28.9</td>\n",
              "      <td>0</td>\n",
              "      <td>no</td>\n",
              "      <td>northwest</td>\n",
              "      <td>3866.86</td>\n",
              "    </tr>\n",
              "  </tbody>\n",
              "</table>\n",
              "</div>"
            ],
            "text/plain": [
              "   age     sex   bmi  children smoker     region  expenses\n",
              "0   19  female  27.9         0    yes  southwest  16884.92\n",
              "1   18    male  33.8         1     no  southeast   1725.55\n",
              "2   28    male  33.0         3     no  southeast   4449.46\n",
              "3   33    male  22.7         0     no  northwest  21984.47\n",
              "4   32    male  28.9         0     no  northwest   3866.86"
            ]
          },
          "metadata": {
            "tags": []
          },
          "execution_count": 4
        }
      ]
    },
    {
      "cell_type": "code",
      "metadata": {
        "id": "QxGst7diz44j"
      },
      "source": [
        "label_encoder = LabelEncoder()\n",
        "\n",
        "dataset['region'] = label_encoder.fit_transform(dataset['region'])\n",
        "dataset['sex'] = label_encoder.fit_transform(dataset['sex'])\n",
        "dataset['smoker'] = label_encoder.fit_transform(dataset['smoker'])\n"
      ],
      "execution_count": 5,
      "outputs": []
    },
    {
      "cell_type": "code",
      "metadata": {
        "colab": {
          "base_uri": "https://localhost:8080/",
          "height": 206
        },
        "id": "lwKeg3pF0Bnk",
        "outputId": "ee516a12-3559-4fff-9bb8-9a0ace53a07a"
      },
      "source": [
        "dataset.head()"
      ],
      "execution_count": 6,
      "outputs": [
        {
          "output_type": "execute_result",
          "data": {
            "text/html": [
              "<div>\n",
              "<style scoped>\n",
              "    .dataframe tbody tr th:only-of-type {\n",
              "        vertical-align: middle;\n",
              "    }\n",
              "\n",
              "    .dataframe tbody tr th {\n",
              "        vertical-align: top;\n",
              "    }\n",
              "\n",
              "    .dataframe thead th {\n",
              "        text-align: right;\n",
              "    }\n",
              "</style>\n",
              "<table border=\"1\" class=\"dataframe\">\n",
              "  <thead>\n",
              "    <tr style=\"text-align: right;\">\n",
              "      <th></th>\n",
              "      <th>age</th>\n",
              "      <th>sex</th>\n",
              "      <th>bmi</th>\n",
              "      <th>children</th>\n",
              "      <th>smoker</th>\n",
              "      <th>region</th>\n",
              "      <th>expenses</th>\n",
              "    </tr>\n",
              "  </thead>\n",
              "  <tbody>\n",
              "    <tr>\n",
              "      <th>0</th>\n",
              "      <td>19</td>\n",
              "      <td>0</td>\n",
              "      <td>27.9</td>\n",
              "      <td>0</td>\n",
              "      <td>1</td>\n",
              "      <td>3</td>\n",
              "      <td>16884.92</td>\n",
              "    </tr>\n",
              "    <tr>\n",
              "      <th>1</th>\n",
              "      <td>18</td>\n",
              "      <td>1</td>\n",
              "      <td>33.8</td>\n",
              "      <td>1</td>\n",
              "      <td>0</td>\n",
              "      <td>2</td>\n",
              "      <td>1725.55</td>\n",
              "    </tr>\n",
              "    <tr>\n",
              "      <th>2</th>\n",
              "      <td>28</td>\n",
              "      <td>1</td>\n",
              "      <td>33.0</td>\n",
              "      <td>3</td>\n",
              "      <td>0</td>\n",
              "      <td>2</td>\n",
              "      <td>4449.46</td>\n",
              "    </tr>\n",
              "    <tr>\n",
              "      <th>3</th>\n",
              "      <td>33</td>\n",
              "      <td>1</td>\n",
              "      <td>22.7</td>\n",
              "      <td>0</td>\n",
              "      <td>0</td>\n",
              "      <td>1</td>\n",
              "      <td>21984.47</td>\n",
              "    </tr>\n",
              "    <tr>\n",
              "      <th>4</th>\n",
              "      <td>32</td>\n",
              "      <td>1</td>\n",
              "      <td>28.9</td>\n",
              "      <td>0</td>\n",
              "      <td>0</td>\n",
              "      <td>1</td>\n",
              "      <td>3866.86</td>\n",
              "    </tr>\n",
              "  </tbody>\n",
              "</table>\n",
              "</div>"
            ],
            "text/plain": [
              "   age  sex   bmi  children  smoker  region  expenses\n",
              "0   19    0  27.9         0       1       3  16884.92\n",
              "1   18    1  33.8         1       0       2   1725.55\n",
              "2   28    1  33.0         3       0       2   4449.46\n",
              "3   33    1  22.7         0       0       1  21984.47\n",
              "4   32    1  28.9         0       0       1   3866.86"
            ]
          },
          "metadata": {
            "tags": []
          },
          "execution_count": 6
        }
      ]
    },
    {
      "cell_type": "code",
      "metadata": {
        "id": "4a96lUsm0EZ-"
      },
      "source": [
        "train_dataset, test_dataset = train_test_split(dataset, test_size=0.2)\n"
      ],
      "execution_count": 7,
      "outputs": []
    },
    {
      "cell_type": "code",
      "metadata": {
        "id": "E4Yr5ZCM0pFM"
      },
      "source": [
        "train_labels = train_dataset.pop('expenses')\n",
        "test_labels = test_dataset.pop('expenses')"
      ],
      "execution_count": 8,
      "outputs": []
    },
    {
      "cell_type": "code",
      "metadata": {
        "id": "YtW64ijK0rKC"
      },
      "source": [
        "model = tf.keras.Sequential([\n",
        "    \n",
        "    layers.Dense(64, activation='relu'),\n",
        "    layers.Dense(64, activation='relu'),\n",
        "    layers.Dense(1)\n",
        "])\n",
        "\n",
        "model.predict(train_dataset)\n",
        "\n",
        "model.compile(\n",
        "    optimizer=tf.optimizers.Adam(learning_rate=0.1),\n",
        "    loss='mean_absolute_error',\n",
        "    metrics=['mae', 'mse'])"
      ],
      "execution_count": 24,
      "outputs": []
    },
    {
      "cell_type": "code",
      "metadata": {
        "colab": {
          "base_uri": "https://localhost:8080/"
        },
        "id": "ha9HX0wh1Qwd",
        "outputId": "8e84a21c-1045-4d8d-9b04-8b60ca148802"
      },
      "source": [
        "history = model.fit(\n",
        "    train_dataset, train_labels, \n",
        "    epochs=100,\n",
        "    verbose=2,\n",
        "    validation_split = 0.2)"
      ],
      "execution_count": 25,
      "outputs": [
        {
          "output_type": "stream",
          "text": [
            "Epoch 1/100\n",
            "27/27 - 1s - loss: 9435.9219 - mae: 9435.9219 - mse: 200984496.0000 - val_loss: 6533.1191 - val_mae: 6533.1191 - val_mse: 142298416.0000\n",
            "Epoch 2/100\n",
            "27/27 - 0s - loss: 7172.5156 - mae: 7172.5156 - mse: 165053040.0000 - val_loss: 5575.9170 - val_mae: 5575.9170 - val_mse: 128167016.0000\n",
            "Epoch 3/100\n",
            "27/27 - 0s - loss: 6539.3799 - mae: 6539.3799 - mse: 156006768.0000 - val_loss: 5678.1411 - val_mae: 5678.1411 - val_mse: 101363232.0000\n",
            "Epoch 4/100\n",
            "27/27 - 0s - loss: 5857.5923 - mae: 5857.5923 - mse: 125684912.0000 - val_loss: 3793.1560 - val_mae: 3793.1560 - val_mse: 67960928.0000\n",
            "Epoch 5/100\n",
            "27/27 - 0s - loss: 5203.2612 - mae: 5203.2612 - mse: 70921384.0000 - val_loss: 4267.1353 - val_mae: 4267.1353 - val_mse: 35175384.0000\n",
            "Epoch 6/100\n",
            "27/27 - 0s - loss: 4502.2827 - mae: 4502.2827 - mse: 59615652.0000 - val_loss: 2987.3030 - val_mae: 2987.3030 - val_mse: 34657980.0000\n",
            "Epoch 7/100\n",
            "27/27 - 0s - loss: 3984.4929 - mae: 3984.4929 - mse: 49383544.0000 - val_loss: 4375.5635 - val_mae: 4375.5635 - val_mse: 41139268.0000\n",
            "Epoch 8/100\n",
            "27/27 - 0s - loss: 4213.3657 - mae: 4213.3657 - mse: 50467216.0000 - val_loss: 2759.0122 - val_mae: 2759.0122 - val_mse: 26797492.0000\n",
            "Epoch 9/100\n",
            "27/27 - 0s - loss: 3865.4456 - mae: 3865.4456 - mse: 48143052.0000 - val_loss: 2677.7261 - val_mae: 2677.7261 - val_mse: 29694146.0000\n",
            "Epoch 10/100\n",
            "27/27 - 0s - loss: 3756.2317 - mae: 3756.2317 - mse: 47328336.0000 - val_loss: 2967.6841 - val_mae: 2967.6841 - val_mse: 27100062.0000\n",
            "Epoch 11/100\n",
            "27/27 - 0s - loss: 3934.5017 - mae: 3934.5017 - mse: 45407672.0000 - val_loss: 2754.1492 - val_mae: 2754.1492 - val_mse: 25565098.0000\n",
            "Epoch 12/100\n",
            "27/27 - 0s - loss: 3573.0029 - mae: 3573.0029 - mse: 47241096.0000 - val_loss: 2698.9104 - val_mae: 2698.9104 - val_mse: 31231694.0000\n",
            "Epoch 13/100\n",
            "27/27 - 0s - loss: 3725.8555 - mae: 3725.8555 - mse: 44512848.0000 - val_loss: 2739.1057 - val_mae: 2739.1057 - val_mse: 29564096.0000\n",
            "Epoch 14/100\n",
            "27/27 - 0s - loss: 3522.4294 - mae: 3522.4294 - mse: 45117432.0000 - val_loss: 2804.5137 - val_mae: 2804.5137 - val_mse: 26886030.0000\n",
            "Epoch 15/100\n",
            "27/27 - 0s - loss: 3745.9126 - mae: 3745.9126 - mse: 45084972.0000 - val_loss: 2543.9329 - val_mae: 2543.9329 - val_mse: 26732096.0000\n",
            "Epoch 16/100\n",
            "27/27 - 0s - loss: 3667.8406 - mae: 3667.8406 - mse: 46178284.0000 - val_loss: 2579.2056 - val_mae: 2579.2056 - val_mse: 29260580.0000\n",
            "Epoch 17/100\n",
            "27/27 - 0s - loss: 3599.2720 - mae: 3599.2720 - mse: 43801936.0000 - val_loss: 2571.7219 - val_mae: 2571.7219 - val_mse: 22773774.0000\n",
            "Epoch 18/100\n",
            "27/27 - 0s - loss: 3534.7095 - mae: 3534.7095 - mse: 43708832.0000 - val_loss: 2608.1179 - val_mae: 2608.1179 - val_mse: 23558556.0000\n",
            "Epoch 19/100\n",
            "27/27 - 0s - loss: 3519.1172 - mae: 3519.1172 - mse: 43402012.0000 - val_loss: 2348.2144 - val_mae: 2348.2144 - val_mse: 25274614.0000\n",
            "Epoch 20/100\n",
            "27/27 - 0s - loss: 3490.8010 - mae: 3490.8010 - mse: 43617428.0000 - val_loss: 2324.7412 - val_mae: 2324.7412 - val_mse: 23068382.0000\n",
            "Epoch 21/100\n",
            "27/27 - 0s - loss: 3627.0525 - mae: 3627.0525 - mse: 42492748.0000 - val_loss: 3096.3804 - val_mae: 3096.3804 - val_mse: 24802136.0000\n",
            "Epoch 22/100\n",
            "27/27 - 0s - loss: 3984.8394 - mae: 3984.8394 - mse: 44862568.0000 - val_loss: 3865.9111 - val_mae: 3865.9111 - val_mse: 32154628.0000\n",
            "Epoch 23/100\n",
            "27/27 - 0s - loss: 3786.4082 - mae: 3786.4082 - mse: 44587768.0000 - val_loss: 2396.4412 - val_mae: 2396.4412 - val_mse: 27052682.0000\n",
            "Epoch 24/100\n",
            "27/27 - 0s - loss: 3360.5999 - mae: 3360.5999 - mse: 43086044.0000 - val_loss: 2363.3755 - val_mae: 2363.3755 - val_mse: 22420164.0000\n",
            "Epoch 25/100\n",
            "27/27 - 0s - loss: 3335.7241 - mae: 3335.7241 - mse: 42255656.0000 - val_loss: 2482.2383 - val_mae: 2482.2383 - val_mse: 20380890.0000\n",
            "Epoch 26/100\n",
            "27/27 - 0s - loss: 3899.3384 - mae: 3899.3384 - mse: 45884444.0000 - val_loss: 2463.9980 - val_mae: 2463.9980 - val_mse: 22419256.0000\n",
            "Epoch 27/100\n",
            "27/27 - 0s - loss: 3417.0479 - mae: 3417.0479 - mse: 41758356.0000 - val_loss: 2366.7375 - val_mae: 2366.7375 - val_mse: 21101286.0000\n",
            "Epoch 28/100\n",
            "27/27 - 0s - loss: 3469.1753 - mae: 3469.1753 - mse: 41141852.0000 - val_loss: 2648.0408 - val_mae: 2648.0408 - val_mse: 20022920.0000\n",
            "Epoch 29/100\n",
            "27/27 - 0s - loss: 3377.7185 - mae: 3377.7185 - mse: 41376672.0000 - val_loss: 2312.3330 - val_mae: 2312.3330 - val_mse: 23185120.0000\n",
            "Epoch 30/100\n",
            "27/27 - 0s - loss: 3378.7249 - mae: 3378.7249 - mse: 40644688.0000 - val_loss: 2376.4258 - val_mae: 2376.4258 - val_mse: 20158708.0000\n",
            "Epoch 31/100\n",
            "27/27 - 0s - loss: 3300.5649 - mae: 3300.5649 - mse: 41518124.0000 - val_loss: 2132.2773 - val_mae: 2132.2773 - val_mse: 22383032.0000\n",
            "Epoch 32/100\n",
            "27/27 - 0s - loss: 3316.3706 - mae: 3316.3706 - mse: 41298252.0000 - val_loss: 2965.2146 - val_mae: 2965.2144 - val_mse: 20587508.0000\n",
            "Epoch 33/100\n",
            "27/27 - 0s - loss: 3638.2251 - mae: 3638.2251 - mse: 42110336.0000 - val_loss: 2336.9622 - val_mae: 2336.9622 - val_mse: 26390956.0000\n",
            "Epoch 34/100\n",
            "27/27 - 0s - loss: 3506.2961 - mae: 3506.2961 - mse: 44280300.0000 - val_loss: 3110.3511 - val_mae: 3110.3511 - val_mse: 32529652.0000\n",
            "Epoch 35/100\n",
            "27/27 - 0s - loss: 3675.9192 - mae: 3675.9192 - mse: 44126672.0000 - val_loss: 2753.7932 - val_mae: 2753.7932 - val_mse: 18256696.0000\n",
            "Epoch 36/100\n",
            "27/27 - 0s - loss: 3326.5054 - mae: 3326.5054 - mse: 39486972.0000 - val_loss: 2491.3701 - val_mae: 2491.3701 - val_mse: 21860340.0000\n",
            "Epoch 37/100\n",
            "27/27 - 0s - loss: 3225.5938 - mae: 3225.5938 - mse: 38368940.0000 - val_loss: 2129.9028 - val_mae: 2129.9028 - val_mse: 20739838.0000\n",
            "Epoch 38/100\n",
            "27/27 - 0s - loss: 3166.5623 - mae: 3166.5623 - mse: 38217476.0000 - val_loss: 2133.3496 - val_mae: 2133.3496 - val_mse: 19254970.0000\n",
            "Epoch 39/100\n",
            "27/27 - 0s - loss: 3104.8101 - mae: 3104.8101 - mse: 39179720.0000 - val_loss: 2624.4819 - val_mae: 2624.4819 - val_mse: 27835222.0000\n",
            "Epoch 40/100\n",
            "27/27 - 0s - loss: 3337.2888 - mae: 3337.2888 - mse: 41461716.0000 - val_loss: 2150.9844 - val_mae: 2150.9844 - val_mse: 18413420.0000\n",
            "Epoch 41/100\n",
            "27/27 - 0s - loss: 3159.6238 - mae: 3159.6238 - mse: 38020128.0000 - val_loss: 2052.0391 - val_mae: 2052.0391 - val_mse: 17534810.0000\n",
            "Epoch 42/100\n",
            "27/27 - 0s - loss: 3557.6953 - mae: 3557.6953 - mse: 42010868.0000 - val_loss: 2361.0220 - val_mae: 2361.0220 - val_mse: 17365146.0000\n",
            "Epoch 43/100\n",
            "27/27 - 0s - loss: 3383.3174 - mae: 3383.3174 - mse: 37457340.0000 - val_loss: 2053.3228 - val_mae: 2053.3228 - val_mse: 17963754.0000\n",
            "Epoch 44/100\n",
            "27/27 - 0s - loss: 2974.1650 - mae: 2974.1650 - mse: 35345068.0000 - val_loss: 2117.7810 - val_mae: 2117.7810 - val_mse: 16649697.0000\n",
            "Epoch 45/100\n",
            "27/27 - 0s - loss: 2964.6890 - mae: 2964.6890 - mse: 35439744.0000 - val_loss: 2022.6703 - val_mae: 2022.6703 - val_mse: 18607326.0000\n",
            "Epoch 46/100\n",
            "27/27 - 0s - loss: 3004.6643 - mae: 3004.6643 - mse: 35017000.0000 - val_loss: 1923.5044 - val_mae: 1923.5044 - val_mse: 16235073.0000\n",
            "Epoch 47/100\n",
            "27/27 - 0s - loss: 3077.3108 - mae: 3077.3108 - mse: 38614512.0000 - val_loss: 1932.4658 - val_mae: 1932.4658 - val_mse: 16166551.0000\n",
            "Epoch 48/100\n",
            "27/27 - 0s - loss: 3012.9534 - mae: 3012.9534 - mse: 33828164.0000 - val_loss: 1784.3303 - val_mae: 1784.3303 - val_mse: 14560551.0000\n",
            "Epoch 49/100\n",
            "27/27 - 0s - loss: 2983.8596 - mae: 2983.8596 - mse: 35911980.0000 - val_loss: 1961.3350 - val_mae: 1961.3350 - val_mse: 18749504.0000\n",
            "Epoch 50/100\n",
            "27/27 - 0s - loss: 3098.7629 - mae: 3098.7629 - mse: 38062376.0000 - val_loss: 2809.4758 - val_mae: 2809.4758 - val_mse: 20852504.0000\n",
            "Epoch 51/100\n",
            "27/27 - 0s - loss: 3076.9199 - mae: 3076.9199 - mse: 34319368.0000 - val_loss: 1719.3215 - val_mae: 1719.3215 - val_mse: 13620204.0000\n",
            "Epoch 52/100\n",
            "27/27 - 0s - loss: 2846.9602 - mae: 2846.9602 - mse: 33522392.0000 - val_loss: 2429.7378 - val_mae: 2429.7378 - val_mse: 16316804.0000\n",
            "Epoch 53/100\n",
            "27/27 - 0s - loss: 3673.1270 - mae: 3673.1270 - mse: 43519120.0000 - val_loss: 2801.8347 - val_mae: 2801.8347 - val_mse: 22248790.0000\n",
            "Epoch 54/100\n",
            "27/27 - 0s - loss: 2906.8083 - mae: 2906.8083 - mse: 33062758.0000 - val_loss: 2019.2056 - val_mae: 2019.2056 - val_mse: 15556923.0000\n",
            "Epoch 55/100\n",
            "27/27 - 0s - loss: 3042.8933 - mae: 3042.8933 - mse: 33421100.0000 - val_loss: 1814.3217 - val_mae: 1814.3217 - val_mse: 13514281.0000\n",
            "Epoch 56/100\n",
            "27/27 - 0s - loss: 3194.4634 - mae: 3194.4634 - mse: 38350872.0000 - val_loss: 2565.3264 - val_mae: 2565.3264 - val_mse: 19798042.0000\n",
            "Epoch 57/100\n",
            "27/27 - 0s - loss: 3009.9177 - mae: 3009.9177 - mse: 32162488.0000 - val_loss: 1852.8035 - val_mae: 1852.8035 - val_mse: 15905471.0000\n",
            "Epoch 58/100\n",
            "27/27 - 0s - loss: 2884.8403 - mae: 2884.8403 - mse: 32559386.0000 - val_loss: 1779.4775 - val_mae: 1779.4775 - val_mse: 14136039.0000\n",
            "Epoch 59/100\n",
            "27/27 - 0s - loss: 3121.5903 - mae: 3121.5903 - mse: 36237456.0000 - val_loss: 2000.5908 - val_mae: 2000.5908 - val_mse: 13398715.0000\n",
            "Epoch 60/100\n",
            "27/27 - 0s - loss: 2805.9121 - mae: 2805.9121 - mse: 32240132.0000 - val_loss: 2164.8064 - val_mae: 2164.8064 - val_mse: 13601796.0000\n",
            "Epoch 61/100\n",
            "27/27 - 0s - loss: 2553.5042 - mae: 2553.5042 - mse: 29692516.0000 - val_loss: 2116.7559 - val_mae: 2116.7559 - val_mse: 19700854.0000\n",
            "Epoch 62/100\n",
            "27/27 - 0s - loss: 3008.9094 - mae: 3008.9094 - mse: 34600136.0000 - val_loss: 2738.3306 - val_mae: 2738.3306 - val_mse: 23992434.0000\n",
            "Epoch 63/100\n",
            "27/27 - 0s - loss: 2757.3911 - mae: 2757.3911 - mse: 32156192.0000 - val_loss: 1613.5276 - val_mae: 1613.5276 - val_mse: 12497737.0000\n",
            "Epoch 64/100\n",
            "27/27 - 0s - loss: 2549.9788 - mae: 2549.9788 - mse: 28880428.0000 - val_loss: 1544.4756 - val_mae: 1544.4756 - val_mse: 12052418.0000\n",
            "Epoch 65/100\n",
            "27/27 - 0s - loss: 2896.0994 - mae: 2896.0994 - mse: 33874888.0000 - val_loss: 3418.2036 - val_mae: 3418.2036 - val_mse: 42973472.0000\n",
            "Epoch 66/100\n",
            "27/27 - 0s - loss: 3398.2585 - mae: 3398.2585 - mse: 40137512.0000 - val_loss: 2231.3167 - val_mae: 2231.3167 - val_mse: 14774071.0000\n",
            "Epoch 67/100\n",
            "27/27 - 0s - loss: 3209.7559 - mae: 3209.7559 - mse: 38329096.0000 - val_loss: 1670.8834 - val_mae: 1670.8834 - val_mse: 13532850.0000\n",
            "Epoch 68/100\n",
            "27/27 - 0s - loss: 3098.1279 - mae: 3098.1279 - mse: 35157276.0000 - val_loss: 1997.3342 - val_mae: 1997.3342 - val_mse: 18077828.0000\n",
            "Epoch 69/100\n",
            "27/27 - 0s - loss: 3229.9331 - mae: 3229.9331 - mse: 36710932.0000 - val_loss: 1978.3082 - val_mae: 1978.3082 - val_mse: 14498110.0000\n",
            "Epoch 70/100\n",
            "27/27 - 0s - loss: 2710.1921 - mae: 2710.1921 - mse: 29505912.0000 - val_loss: 1691.2145 - val_mae: 1691.2145 - val_mse: 12851755.0000\n",
            "Epoch 71/100\n",
            "27/27 - 0s - loss: 2789.8389 - mae: 2789.8389 - mse: 30416372.0000 - val_loss: 1734.0459 - val_mae: 1734.0459 - val_mse: 12617982.0000\n",
            "Epoch 72/100\n",
            "27/27 - 0s - loss: 2725.1052 - mae: 2725.1052 - mse: 31800054.0000 - val_loss: 2480.3677 - val_mae: 2480.3677 - val_mse: 16858936.0000\n",
            "Epoch 73/100\n",
            "27/27 - 0s - loss: 3375.6519 - mae: 3375.6519 - mse: 39241880.0000 - val_loss: 1687.3926 - val_mae: 1687.3926 - val_mse: 12505618.0000\n",
            "Epoch 74/100\n",
            "27/27 - 0s - loss: 2806.4980 - mae: 2806.4980 - mse: 32040536.0000 - val_loss: 1662.7678 - val_mae: 1662.7678 - val_mse: 12497111.0000\n",
            "Epoch 75/100\n",
            "27/27 - 0s - loss: 2823.4116 - mae: 2823.4116 - mse: 31803938.0000 - val_loss: 1828.0328 - val_mae: 1828.0328 - val_mse: 11872554.0000\n",
            "Epoch 76/100\n",
            "27/27 - 0s - loss: 2577.2461 - mae: 2577.2461 - mse: 29395884.0000 - val_loss: 1536.5975 - val_mae: 1536.5975 - val_mse: 12460592.0000\n",
            "Epoch 77/100\n",
            "27/27 - 0s - loss: 2628.8586 - mae: 2628.8586 - mse: 29596148.0000 - val_loss: 1888.2614 - val_mae: 1888.2614 - val_mse: 18931090.0000\n",
            "Epoch 78/100\n",
            "27/27 - 0s - loss: 2734.4497 - mae: 2734.4497 - mse: 30840600.0000 - val_loss: 1748.7747 - val_mae: 1748.7747 - val_mse: 11307019.0000\n",
            "Epoch 79/100\n",
            "27/27 - 0s - loss: 2522.8765 - mae: 2522.8765 - mse: 28911820.0000 - val_loss: 1747.5665 - val_mae: 1747.5665 - val_mse: 12927245.0000\n",
            "Epoch 80/100\n",
            "27/27 - 0s - loss: 2521.7119 - mae: 2521.7119 - mse: 29512412.0000 - val_loss: 1719.1644 - val_mae: 1719.1644 - val_mse: 13999563.0000\n",
            "Epoch 81/100\n",
            "27/27 - 0s - loss: 2947.2471 - mae: 2947.2471 - mse: 33304806.0000 - val_loss: 3196.6077 - val_mae: 3196.6077 - val_mse: 30825026.0000\n",
            "Epoch 82/100\n",
            "27/27 - 0s - loss: 3157.5540 - mae: 3157.5540 - mse: 35897628.0000 - val_loss: 1782.9524 - val_mae: 1782.9524 - val_mse: 13326378.0000\n",
            "Epoch 83/100\n",
            "27/27 - 0s - loss: 2422.9375 - mae: 2422.9375 - mse: 28058160.0000 - val_loss: 2128.7354 - val_mae: 2128.7354 - val_mse: 19939916.0000\n",
            "Epoch 84/100\n",
            "27/27 - 0s - loss: 2741.2571 - mae: 2741.2571 - mse: 30720772.0000 - val_loss: 2431.2419 - val_mae: 2431.2419 - val_mse: 20456354.0000\n",
            "Epoch 85/100\n",
            "27/27 - 0s - loss: 2721.0361 - mae: 2721.0361 - mse: 30343654.0000 - val_loss: 1589.0764 - val_mae: 1589.0764 - val_mse: 13165290.0000\n",
            "Epoch 86/100\n",
            "27/27 - 0s - loss: 2472.0278 - mae: 2472.0278 - mse: 28622486.0000 - val_loss: 2708.1799 - val_mae: 2708.1799 - val_mse: 19901382.0000\n",
            "Epoch 87/100\n",
            "27/27 - 0s - loss: 2502.8313 - mae: 2502.8313 - mse: 28153690.0000 - val_loss: 1756.5771 - val_mae: 1756.5771 - val_mse: 13728134.0000\n",
            "Epoch 88/100\n",
            "27/27 - 0s - loss: 2445.2793 - mae: 2445.2793 - mse: 28248026.0000 - val_loss: 1381.4065 - val_mae: 1381.4065 - val_mse: 11194818.0000\n",
            "Epoch 89/100\n",
            "27/27 - 0s - loss: 2645.8762 - mae: 2645.8762 - mse: 29203890.0000 - val_loss: 2096.8826 - val_mae: 2096.8826 - val_mse: 16736189.0000\n",
            "Epoch 90/100\n",
            "27/27 - 0s - loss: 3035.9802 - mae: 3035.9802 - mse: 33584216.0000 - val_loss: 1845.7012 - val_mae: 1845.7012 - val_mse: 16990478.0000\n",
            "Epoch 91/100\n",
            "27/27 - 0s - loss: 2589.6304 - mae: 2589.6304 - mse: 29449558.0000 - val_loss: 1541.0868 - val_mae: 1541.0868 - val_mse: 13045984.0000\n",
            "Epoch 92/100\n",
            "27/27 - 0s - loss: 2701.6221 - mae: 2701.6221 - mse: 30735908.0000 - val_loss: 1672.7247 - val_mae: 1672.7247 - val_mse: 13615106.0000\n",
            "Epoch 93/100\n",
            "27/27 - 0s - loss: 2680.5344 - mae: 2680.5344 - mse: 30050122.0000 - val_loss: 1701.9806 - val_mae: 1701.9806 - val_mse: 11617514.0000\n",
            "Epoch 94/100\n",
            "27/27 - 0s - loss: 2597.9944 - mae: 2597.9944 - mse: 29675044.0000 - val_loss: 1809.4883 - val_mae: 1809.4883 - val_mse: 13537958.0000\n",
            "Epoch 95/100\n",
            "27/27 - 0s - loss: 2538.2397 - mae: 2538.2397 - mse: 28575816.0000 - val_loss: 1912.9529 - val_mae: 1912.9529 - val_mse: 14287575.0000\n",
            "Epoch 96/100\n",
            "27/27 - 0s - loss: 2563.8242 - mae: 2563.8242 - mse: 29463026.0000 - val_loss: 2030.5173 - val_mae: 2030.5173 - val_mse: 16922330.0000\n",
            "Epoch 97/100\n",
            "27/27 - 0s - loss: 2698.4939 - mae: 2698.4939 - mse: 31343888.0000 - val_loss: 2107.7432 - val_mae: 2107.7432 - val_mse: 12090352.0000\n",
            "Epoch 98/100\n",
            "27/27 - 0s - loss: 2939.1177 - mae: 2939.1177 - mse: 30885144.0000 - val_loss: 1442.8870 - val_mae: 1442.8870 - val_mse: 11680098.0000\n",
            "Epoch 99/100\n",
            "27/27 - 0s - loss: 2391.6677 - mae: 2391.6677 - mse: 27686538.0000 - val_loss: 1632.7190 - val_mae: 1632.7190 - val_mse: 11916065.0000\n",
            "Epoch 100/100\n",
            "27/27 - 0s - loss: 2686.1265 - mae: 2686.1265 - mse: 30183804.0000 - val_loss: 2460.2065 - val_mae: 2460.2065 - val_mse: 21242980.0000\n"
          ],
          "name": "stdout"
        }
      ]
    },
    {
      "cell_type": "code",
      "metadata": {
        "colab": {
          "base_uri": "https://localhost:8080/"
        },
        "id": "gZntifUn4EYQ",
        "outputId": "c40126f3-dd4b-4a66-95c5-4c58d3b2cfb2"
      },
      "source": [
        "es_callback = tf.keras.callbacks.EarlyStopping(monitor='loss', patience=3)\n",
        "\n",
        "model.fit(train_dataset, train_labels, callbacks=[es_callback])"
      ],
      "execution_count": 26,
      "outputs": [
        {
          "output_type": "stream",
          "text": [
            "34/34 [==============================] - 0s 2ms/step - loss: 2583.7881 - mae: 2583.7881 - mse: 28010028.0000\n"
          ],
          "name": "stdout"
        },
        {
          "output_type": "execute_result",
          "data": {
            "text/plain": [
              "<tensorflow.python.keras.callbacks.History at 0x7fcdfd4bd550>"
            ]
          },
          "metadata": {
            "tags": []
          },
          "execution_count": 26
        }
      ]
    },
    {
      "cell_type": "code",
      "metadata": {
        "colab": {
          "base_uri": "https://localhost:8080/",
          "height": 335
        },
        "id": "ZHkoibdM1fzt",
        "outputId": "258f3877-fda3-46c8-9dcb-0c4bed116fca"
      },
      "source": [
        "loss, mae, mse = model.evaluate(test_dataset, test_labels, verbose=2)\n",
        "\n",
        "print(\"Testing set Mean Abs Error: {:5.2f} expenses\".format(mae))\n",
        "\n",
        "if mae < 3500:\n",
        "  print(\"You passed the challenge. Great job!\")\n",
        "else:\n",
        "  print(\"The Mean Abs Error must be less than 3500. Keep trying.\")\n",
        "\n",
        "# Plot predictions.\n",
        "test_predictions = model.predict(test_dataset).flatten()\n",
        "\n",
        "a = plt.axes(aspect='equal')\n",
        "plt.scatter(test_labels, test_predictions)\n",
        "plt.xlabel('True values (expenses)')\n",
        "plt.ylabel('Predictions (expenses)')\n",
        "lims = [0, 50000]\n",
        "plt.xlim(lims)\n",
        "plt.ylim(lims)\n",
        "_ = plt.plot(lims,lims)"
      ],
      "execution_count": 27,
      "outputs": [
        {
          "output_type": "stream",
          "text": [
            "9/9 - 0s - loss: 2823.1973 - mae: 2823.1973 - mse: 36516128.0000\n",
            "Testing set Mean Abs Error: 2823.20 expenses\n",
            "You passed the challenge. Great job!\n"
          ],
          "name": "stdout"
        },
        {
          "output_type": "display_data",
          "data": {
            "image/png": "[encoded data removed]",
            "text/plain": [
              "<Figure size 432x288 with 1 Axes>"
            ]
          },
          "metadata": {
            "tags": [],
            "needs_background": "light"
          }
        }
      ]
    }
  ]
}